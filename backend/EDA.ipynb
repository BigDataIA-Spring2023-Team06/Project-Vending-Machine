{
 "cells": [
  {
   "cell_type": "code",
   "execution_count": null,
   "id": "6cc348f0",
   "metadata": {},
   "outputs": [],
   "source": [
    "#"
   ]
  },
  {
   "cell_type": "code",
   "execution_count": null,
   "id": "671fe5a5",
   "metadata": {},
   "outputs": [],
   "source": [
    "# Import necessary libraries\n",
    "import pandas as pd\n",
    "import matplotlib.pyplot as plt\n",
    "import seaborn as sns\n",
    "\n"
   ]
  },
  {
   "cell_type": "code",
   "execution_count": null,
   "id": "1d6f2c8d",
   "metadata": {},
   "outputs": [],
   "source": [
    "# Load the csv file into a dataframe\n",
    "df = pd.read_csv('https://github.com/midhunmohank/INFO6105/blob/main/advertising.csv', index_col=0)\n",
    "\n"
   ]
  },
  {
   "cell_type": "code",
   "execution_count": null,
   "id": "9fb132c6",
   "metadata": {},
   "outputs": [],
   "source": [
    "# Check for null values in the dataframe\n",
    "print(df.isnull().sum())\n",
    "\n"
   ]
  },
  {
   "cell_type": "code",
   "execution_count": null,
   "id": "96e819fe",
   "metadata": {},
   "outputs": [],
   "source": [
    "# Output the shape of the dataframe\n",
    "print(df.shape)\n",
    "\n"
   ]
  },
  {
   "cell_type": "code",
   "execution_count": null,
   "id": "78f2a19c",
   "metadata": {},
   "outputs": [],
   "source": [
    "# Output the first 5 rows of the dataframe\n",
    "print(df.head())\n",
    "\n"
   ]
  },
  {
   "cell_type": "code",
   "execution_count": null,
   "id": "3c1bb470",
   "metadata": {},
   "outputs": [],
   "source": [
    "# Output the summary statistics of the numeric columns in the dataframe\n",
    "print(df.describe())\n",
    "\n"
   ]
  },
  {
   "cell_type": "code",
   "execution_count": null,
   "id": "949d99f4",
   "metadata": {},
   "outputs": [],
   "source": [
    "# Plot the correlation heatmap for the numeric columns in the dataframe\n",
    "sns.heatmap(df.corr(), annot=True, cmap='coolwarm')\n",
    "plt.show()\n",
    "\n"
   ]
  },
  {
   "cell_type": "code",
   "execution_count": null,
   "id": "28aac51e",
   "metadata": {},
   "outputs": [],
   "source": [
    "# Plot the distribution of the 'Sales' column in the dataframe\n",
    "sns.displot(df['Sales'])\n",
    "plt.show()\n",
    "\n"
   ]
  },
  {
   "cell_type": "code",
   "execution_count": null,
   "id": "fdfa4f48",
   "metadata": {},
   "outputs": [],
   "source": [
    "# Plot the scatterplot of 'TV' vs 'Sales' in the dataframe\n",
    "sns.scatterplot(data=df, x='TV', y='Sales')\n",
    "plt.show()\n",
    "\n"
   ]
  },
  {
   "cell_type": "code",
   "execution_count": null,
   "id": "d5637dc9",
   "metadata": {},
   "outputs": [],
   "source": [
    "# Plot the scatterplot of 'Radio' vs 'Sales' in the dataframe\n",
    "sns.scatterplot(data=df, x='Radio', y='Sales')\n",
    "plt.show()\n",
    "\n"
   ]
  },
  {
   "cell_type": "code",
   "execution_count": null,
   "id": "2cdaa458",
   "metadata": {},
   "outputs": [],
   "source": [
    "# Plot the scatterplot of 'Newspaper' vs 'Sales' in the dataframe\n",
    "sns.scatterplot(data=df, x='Newspaper', y='Sales')\n",
    "plt.show() \n",
    "\n"
   ]
  },
  {
   "cell_type": "code",
   "execution_count": null,
   "id": "a97d1d87",
   "metadata": {},
   "outputs": [],
   "source": [
    "# Box plot of all the columns in the dataframe\n",
    "df.boxplot()\n",
    "plt.show() \n",
    "\n"
   ]
  },
  {
   "cell_type": "code",
   "execution_count": null,
   "id": "3126a5fc",
   "metadata": {},
   "outputs": [],
   "source": [
    "# Histogram for all the numeric columns in the dataframe\n",
    "df.hist(bins=20)\n",
    "plt.show()\n",
    "\n"
   ]
  },
  {
   "cell_type": "code",
   "execution_count": null,
   "id": "02aaf4a0",
   "metadata": {},
   "outputs": [],
   "source": [
    "# Pairplot for all the numeric columns in the dataframe\n",
    "sns.pairplot(data=df, x_vars=['TV', 'Radio', 'Newspaper'], y_vars='Sales', height=5, aspect=1, kind='scatter')\n",
    "plt.show()\n",
    "\n"
   ]
  },
  {
   "cell_type": "code",
   "execution_count": null,
   "id": "7c6d82c9",
   "metadata": {},
   "outputs": [],
   "source": [
    "# Count plot for the 'Sales' column in the dataframe\n",
    "sns.countplot(x='Sales', data=df)\n",
    "plt.show()\n",
    "\n"
   ]
  },
  {
   "cell_type": "code",
   "execution_count": null,
   "id": "68ca85cf",
   "metadata": {},
   "outputs": [],
   "source": [
    "# Pie chart of the 'Sales' column in the dataframe\n",
    "df['Sales'].value_counts().plot(kind='pie', figsize=(6, 6))\n",
    "plt.show()\n",
    "\n"
   ]
  },
  {
   "cell_type": "code",
   "execution_count": null,
   "id": "c0aebc60",
   "metadata": {},
   "outputs": [],
   "source": [
    "# Stacked bar plot of 'Sales' vs 'TV' and 'Radio' columns in the dataframe\n",
    "df.groupby(['TV', 'Radio'])['Sales'].sum().unstack().plot(kind='bar', stacked=True)\n",
    "plt.show()"
   ]
  }
 ],
 "metadata": {},
 "nbformat": 4,
 "nbformat_minor": 5
}
