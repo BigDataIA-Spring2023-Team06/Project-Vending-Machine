{
 "cells": [
  {
   "cell_type": "code",
   "execution_count": null,
   "id": "afa424cd",
   "metadata": {},
   "outputs": [],
   "source": [
    "#"
   ]
  },
  {
   "cell_type": "code",
   "execution_count": null,
   "id": "aab92b7e",
   "metadata": {},
   "outputs": [],
   "source": [
    "# Import required libraries\n",
    "import pandas as pd\n",
    "import matplotlib.pyplot as plt\n",
    "import seaborn as sns\n",
    "\n"
   ]
  },
  {
   "cell_type": "code",
   "execution_count": null,
   "id": "b966b3b3",
   "metadata": {},
   "outputs": [],
   "source": [
    "# Load dataset from the given link into a pandas DataFrame\n",
    "df = pd.read_csv(\"https://raw.githubusercontent.com/midhunmohank/INFO6105/main/advertising.csv\")\n",
    "\n"
   ]
  },
  {
   "cell_type": "code",
   "execution_count": null,
   "id": "1b20fe83",
   "metadata": {},
   "outputs": [],
   "source": [
    "# Check for null values in the dataset\n",
    "print(\"Null values in the dataset: \", df.isnull().sum().sum())\n",
    "\n"
   ]
  },
  {
   "cell_type": "code",
   "execution_count": null,
   "id": "3615bbbf",
   "metadata": {},
   "outputs": [],
   "source": [
    "# Plot the distribution of the 'Sales' column\n",
    "sns.distplot(df['Sales'])\n",
    "plt.title('Sales Distribution')\n",
    "plt.xlabel('Sales')\n",
    "plt.show()\n",
    "\n"
   ]
  },
  {
   "cell_type": "code",
   "execution_count": null,
   "id": "b6b0704b",
   "metadata": {},
   "outputs": [],
   "source": [
    "# Plot the relationship between 'TV' and 'Sales' columns\n",
    "sns.scatterplot(x='TV', y='Sales', data=df)\n",
    "plt.title('Relationship between TV and Sales')\n",
    "plt.xlabel('TV')\n",
    "plt.ylabel('Sales')\n",
    "plt.show()\n",
    "\n"
   ]
  },
  {
   "cell_type": "code",
   "execution_count": null,
   "id": "fb356178",
   "metadata": {},
   "outputs": [],
   "source": [
    "# Plot the relationship between 'Radio' and 'Sales' columns\n",
    "sns.scatterplot(x='Radio', y='Sales', data=df)\n",
    "plt.title('Relationship between Radio and Sales')\n",
    "plt.xlabel('Radio')\n",
    "plt.ylabel('Sales')\n",
    "plt.show()\n",
    "\n"
   ]
  },
  {
   "cell_type": "code",
   "execution_count": null,
   "id": "5fcf326a",
   "metadata": {},
   "outputs": [],
   "source": [
    "# Plot the relationship between 'Newspaper' and 'Sales' columns\n",
    "sns.scatterplot(x='Newspaper', y='Sales', data=df)\n",
    "plt.title('Relationship between Newspaper and Sales')\n",
    "plt.xlabel('Newspaper')\n",
    "plt.ylabel('Sales')\n",
    "plt.show() \n",
    "\n"
   ]
  },
  {
   "cell_type": "code",
   "execution_count": null,
   "id": "1ef08a80",
   "metadata": {},
   "outputs": [],
   "source": [
    "# Print the summary statistics of the dataset\n",
    "print(df.describe())"
   ]
  }
 ],
 "metadata": {},
 "nbformat": 4,
 "nbformat_minor": 5
}
