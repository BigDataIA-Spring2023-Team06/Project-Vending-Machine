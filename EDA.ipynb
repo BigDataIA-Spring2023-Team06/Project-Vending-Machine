{
 "cells": [
  {
   "cell_type": "code",
   "execution_count": null,
   "id": "91710209",
   "metadata": {},
   "outputs": [],
   "source": [
    "#"
   ]
  },
  {
   "cell_type": "code",
   "execution_count": null,
   "id": "111dda7e",
   "metadata": {},
   "outputs": [],
   "source": [
    "# Importing necessary libraries\n",
    "import pandas as pd\n",
    "import seaborn as sns\n",
    "import matplotlib.pyplot as plt\n",
    "\n"
   ]
  },
  {
   "cell_type": "code",
   "execution_count": null,
   "id": "c77c9cb0",
   "metadata": {},
   "outputs": [],
   "source": [
    "# Loading the dataset\n",
    "url = \"https://raw.githubusercontent.com/midhunmohank/INFO6105/main/advertising.csv\"\n",
    "df = pd.read_csv(url)\n",
    "\n"
   ]
  },
  {
   "cell_type": "code",
   "execution_count": null,
   "id": "371fcc5f",
   "metadata": {},
   "outputs": [],
   "source": [
    "# Displaying the first five rows of the dataset\n",
    "df.head()\n",
    "\n"
   ]
  },
  {
   "cell_type": "code",
   "execution_count": null,
   "id": "93808f76",
   "metadata": {},
   "outputs": [],
   "source": [
    "# Checking for the null values in the dataset\n",
    "df.isnull().sum()\n",
    "\n"
   ]
  },
  {
   "cell_type": "code",
   "execution_count": null,
   "id": "b9e8f89c",
   "metadata": {},
   "outputs": [],
   "source": [
    "# As there are no null values in the dataset, we can move forward with the data analysis.\n",
    "\n"
   ]
  },
  {
   "cell_type": "code",
   "execution_count": null,
   "id": "12832cd5",
   "metadata": {},
   "outputs": [],
   "source": [
    "# Plotting the distribution of the data using histograms\n",
    "df.hist(figsize=(10,10))\n",
    "plt.show()\n",
    "\n"
   ]
  },
  {
   "cell_type": "code",
   "execution_count": null,
   "id": "7ca847c1",
   "metadata": {},
   "outputs": [],
   "source": [
    "# Plotting the correlation matrix to understand the relationships between different variables\n",
    "sns.pairplot(df)\n",
    "plt.show()\n",
    "\n"
   ]
  },
  {
   "cell_type": "code",
   "execution_count": null,
   "id": "73dddc60",
   "metadata": {},
   "outputs": [],
   "source": [
    "# As we can see from the above plots, there is a strong positive correlation between TV and Sales, and a weak or no correlation between Radio, Newspaper and Sales.\n",
    "\n"
   ]
  },
  {
   "cell_type": "code",
   "execution_count": null,
   "id": "e6eaa3af",
   "metadata": {},
   "outputs": [],
   "source": [
    "# Plotting the correlation matrix using a heatmap\n",
    "sns.heatmap(df.corr(), cmap=\"YlGnBu\", annot=True)\n",
    "plt.show()\n",
    "\n"
   ]
  },
  {
   "cell_type": "code",
   "execution_count": null,
   "id": "b4c0e445",
   "metadata": {},
   "outputs": [],
   "source": [
    "# From the heatmap, we can see that there is a strong correlation between TV and Sales, and a weak or no correlation between Radio, Newspaper and Sales."
   ]
  }
 ],
 "metadata": {},
 "nbformat": 4,
 "nbformat_minor": 5
}
